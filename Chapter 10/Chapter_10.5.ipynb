{
  "nbformat": 4,
  "nbformat_minor": 0,
  "metadata": {
    "colab": {
      "provenance": []
    },
    "kernelspec": {
      "name": "python3",
      "display_name": "Python 3"
    },
    "language_info": {
      "name": "python"
    }
  },
  "cells": [
    {
      "cell_type": "markdown",
      "source": [
        "# Handling nultiple inputs"
      ],
      "metadata": {
        "id": "uiJaxyRaJmHd"
      }
    },
    {
      "cell_type": "markdown",
      "source": [
        "When you want to send a subset of the features through the wide path and a different subset(possibly overlapping) through the deep path? One solution is to use multiple inputs."
      ],
      "metadata": {
        "id": "PI28FxoYJGiQ"
      }
    },
    {
      "cell_type": "code",
      "execution_count": 1,
      "metadata": {
        "id": "9-ZHxUFmArxa"
      },
      "outputs": [],
      "source": [
        "from sklearn.datasets import fetch_california_housing\n",
        "from sklearn.model_selection import train_test_split\n",
        "from sklearn.preprocessing import StandardScaler\n",
        "\n",
        "housing = fetch_california_housing()\n",
        "\n",
        "X_train_full, X_test, y_train_full, y_test = train_test_split(housing.data, housing.target)\n",
        "X_train, X_valid, y_train, y_valid = train_test_split(X_train_full, y_train_full)\n",
        "\n",
        "scaler = StandardScaler()\n",
        "X_train = scaler.fit_transform(X_train)\n",
        "X_valid = scaler.transform(X_valid)\n",
        "X_test = scaler.transform(X_test)\n",
        "\n",
        "X_train.shape[1:]\n",
        "\n",
        "import tensorflow as tf\n",
        "from tensorflow import keras"
      ]
    },
    {
      "cell_type": "code",
      "source": [
        "input_A = keras.layers.Input(shape=[5], name='wide_input')\n",
        "input_B = keras.layers.Input(shape=[6], name='deep_input')\n",
        "hidden1 = keras.layers.Dense(30, activation='relu')(input_B)\n",
        "hidden2 = keras.layers.Dense(30, activation='relu')(hidden1)\n",
        "concat = keras.layers.Concatenate()([input_A, hidden2])\n",
        "output = keras.layers.Dense(1)(concat)\n",
        "model = keras.Model(inputs=[input_A, input_B], outputs=[output])"
      ],
      "metadata": {
        "id": "JkG6RXrLGCI-"
      },
      "execution_count": 2,
      "outputs": []
    },
    {
      "cell_type": "code",
      "source": [
        "model.compile(loss='mse', optimizer=keras.optimizers.SGD(learning_rate=1e-3))"
      ],
      "metadata": {
        "id": "O1bxo1HJGrq6"
      },
      "execution_count": 11,
      "outputs": []
    },
    {
      "cell_type": "code",
      "source": [
        "X_train_A, X_train_B = X_train[:, :5], X_train[:, 2:]\n",
        "X_valid_A, X_valid_B = X_valid[:, :5], X_valid[:, 2:]\n",
        "X_test_A, X_test_B = X_test[:, :5], X_test[:, 2:]\n",
        "X_new_A, X_new_B = X_test_A[:3], X_test_B[:3]"
      ],
      "metadata": {
        "id": "5bktBZptG_ZJ"
      },
      "execution_count": 12,
      "outputs": []
    },
    {
      "cell_type": "code",
      "source": [
        "history = model.fit((X_train_A, X_train_B), y_train, epochs=20, validation_data=((X_valid_A, X_valid_B), y_valid))"
      ],
      "metadata": {
        "colab": {
          "base_uri": "https://localhost:8080/"
        },
        "id": "c1-LGKFzH2G8",
        "outputId": "8d230b59-3c6f-4203-e4fb-82e09fda9917"
      },
      "execution_count": 13,
      "outputs": [
        {
          "output_type": "stream",
          "name": "stdout",
          "text": [
            "Epoch 1/20\n",
            "363/363 [==============================] - 2s 3ms/step - loss: 2.2209 - val_loss: 1.0822\n",
            "Epoch 2/20\n",
            "363/363 [==============================] - 1s 2ms/step - loss: 0.9692 - val_loss: 0.8441\n",
            "Epoch 3/20\n",
            "363/363 [==============================] - 1s 3ms/step - loss: 0.8197 - val_loss: 0.7675\n",
            "Epoch 4/20\n",
            "363/363 [==============================] - 1s 2ms/step - loss: 0.7532 - val_loss: 0.7199\n",
            "Epoch 5/20\n",
            "363/363 [==============================] - 1s 3ms/step - loss: 0.7081 - val_loss: 0.6828\n",
            "Epoch 6/20\n",
            "363/363 [==============================] - 1s 3ms/step - loss: 0.6732 - val_loss: 0.6537\n",
            "Epoch 7/20\n",
            "363/363 [==============================] - 1s 3ms/step - loss: 0.6455 - val_loss: 0.6301\n",
            "Epoch 8/20\n",
            "363/363 [==============================] - 2s 5ms/step - loss: 0.6227 - val_loss: 0.6098\n",
            "Epoch 9/20\n",
            "363/363 [==============================] - 1s 4ms/step - loss: 0.6038 - val_loss: 0.5931\n",
            "Epoch 10/20\n",
            "363/363 [==============================] - 2s 5ms/step - loss: 0.5875 - val_loss: 0.5797\n",
            "Epoch 11/20\n",
            "363/363 [==============================] - 1s 3ms/step - loss: 0.5741 - val_loss: 0.5684\n",
            "Epoch 12/20\n",
            "363/363 [==============================] - 1s 3ms/step - loss: 0.5627 - val_loss: 0.5577\n",
            "Epoch 13/20\n",
            "363/363 [==============================] - 1s 3ms/step - loss: 0.5527 - val_loss: 0.5488\n",
            "Epoch 14/20\n",
            "363/363 [==============================] - 1s 3ms/step - loss: 0.5438 - val_loss: 0.5421\n",
            "Epoch 15/20\n",
            "363/363 [==============================] - 2s 4ms/step - loss: 0.5365 - val_loss: 0.5359\n",
            "Epoch 16/20\n",
            "363/363 [==============================] - 4s 10ms/step - loss: 0.5297 - val_loss: 0.5287\n",
            "Epoch 17/20\n",
            "363/363 [==============================] - 2s 5ms/step - loss: 0.5237 - val_loss: 0.5232\n",
            "Epoch 18/20\n",
            "363/363 [==============================] - 2s 5ms/step - loss: 0.5180 - val_loss: 0.5182\n",
            "Epoch 19/20\n",
            "363/363 [==============================] - 1s 4ms/step - loss: 0.5127 - val_loss: 0.5133\n",
            "Epoch 20/20\n",
            "363/363 [==============================] - 1s 2ms/step - loss: 0.5081 - val_loss: 0.5085\n"
          ]
        }
      ]
    },
    {
      "cell_type": "code",
      "source": [
        "mse_test = model.evaluate((X_test_A, X_test_B), y_test)\n",
        "mse_test"
      ],
      "metadata": {
        "colab": {
          "base_uri": "https://localhost:8080/"
        },
        "id": "vEd6GoVsIs_o",
        "outputId": "dc92e977-ad5d-4d39-f660-9dd1c71e6408"
      },
      "execution_count": 15,
      "outputs": [
        {
          "output_type": "stream",
          "name": "stdout",
          "text": [
            "162/162 [==============================] - 0s 2ms/step - loss: 0.5084\n"
          ]
        },
        {
          "output_type": "execute_result",
          "data": {
            "text/plain": [
              "0.5084089636802673"
            ]
          },
          "metadata": {},
          "execution_count": 15
        }
      ]
    },
    {
      "cell_type": "code",
      "source": [
        "y_pred = model.predict((X_new_A, X_new_B))\n",
        "y_pred"
      ],
      "metadata": {
        "colab": {
          "base_uri": "https://localhost:8080/"
        },
        "id": "3dPo_B4WI313",
        "outputId": "6711e269-451e-4dc7-99c3-4eaa7360f78a"
      },
      "execution_count": 17,
      "outputs": [
        {
          "output_type": "stream",
          "name": "stdout",
          "text": [
            "1/1 [==============================] - 0s 54ms/step\n"
          ]
        },
        {
          "output_type": "execute_result",
          "data": {
            "text/plain": [
              "array([[2.0000854],\n",
              "       [2.150784 ],\n",
              "       [2.1399703]], dtype=float32)"
            ]
          },
          "metadata": {},
          "execution_count": 17
        }
      ]
    }
  ]
}